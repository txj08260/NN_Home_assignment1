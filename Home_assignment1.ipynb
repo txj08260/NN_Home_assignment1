{
  "nbformat": 4,
  "nbformat_minor": 0,
  "metadata": {
    "colab": {
      "provenance": []
    },
    "kernelspec": {
      "name": "python3",
      "display_name": "Python 3"
    },
    "language_info": {
      "name": "python"
    }
  },
  "cells": [
    {
      "cell_type": "markdown",
      "source": [
        "1 . Tensor Manipulations and Reshaping"
      ],
      "metadata": {
        "id": "pMGzgvOwBw9s"
      }
    },
    {
      "cell_type": "code",
      "source": [
        "# Section 1: Tensor Manipulations & Reshaping\n",
        "import tensorflow as tf\n",
        "\n",
        "# Create a random tensor of shape (4, 6)\n",
        "tensor = tf.random.uniform((4, 6))\n",
        "print(\"Original Tensor:\\n\", tensor)\n",
        "\n",
        "# Find rank and shape\n",
        "print(\"Rank:\", tf.rank(tensor).numpy())\n",
        "print(\"Shape:\", tensor.shape)\n",
        "\n",
        "# Reshape to (2, 3, 4)\n",
        "reshaped_tensor = tf.reshape(tensor, (2, 3, 4))\n",
        "print(\"Reshaped Tensor (2,3,4):\\n\", reshaped_tensor)\n",
        "\n",
        "# Transpose to (3, 2, 4)\n",
        "transposed_tensor = tf.transpose(reshaped_tensor, perm=[1, 0, 2])\n",
        "print(\"Transposed Tensor (3,2,4):\\n\", transposed_tensor)\n",
        "\n",
        "# Broadcasting example\n",
        "small_tensor = tf.constant([[1, 2, 3, 4]], dtype=tf.float32)\n",
        "broadcasted = tf.broadcast_to(small_tensor, [3, 4])\n",
        "print(\"Broadcasted Tensor:\\n\", broadcasted)\n",
        "\n",
        "# Add broadcasted tensor to a compatible tensor\n",
        "added_result = broadcasted + tf.ones((3, 4))\n",
        "print(\"Result of Broadcasted Addition:\\n\", added_result)\n",
        "\n",
        "# Broadcasting Explanation\n",
        "print(\"\\nBroadcasting allows smaller tensors to match larger tensors by auto-expanding dimensions.\")"
      ],
      "metadata": {
        "colab": {
          "base_uri": "https://localhost:8080/"
        },
        "id": "y-xSEGVpB7k1",
        "outputId": "8141bac7-9ff5-4815-867d-b1f320bdc0d0"
      },
      "execution_count": null,
      "outputs": [
        {
          "output_type": "stream",
          "name": "stdout",
          "text": [
            "Original Tensor:\n",
            " tf.Tensor(\n",
            "[[0.26218843 0.7246082  0.11152279 0.81594026 0.44488585 0.7392136 ]\n",
            " [0.9602324  0.16518235 0.07193947 0.77597475 0.46224034 0.11138272]\n",
            " [0.12729001 0.8042685  0.3117299  0.19165432 0.9370245  0.6117109 ]\n",
            " [0.96877277 0.34423316 0.24525797 0.73299253 0.68144    0.9492165 ]], shape=(4, 6), dtype=float32)\n",
            "Rank: 2\n",
            "Shape: (4, 6)\n",
            "Reshaped Tensor (2,3,4):\n",
            " tf.Tensor(\n",
            "[[[0.26218843 0.7246082  0.11152279 0.81594026]\n",
            "  [0.44488585 0.7392136  0.9602324  0.16518235]\n",
            "  [0.07193947 0.77597475 0.46224034 0.11138272]]\n",
            "\n",
            " [[0.12729001 0.8042685  0.3117299  0.19165432]\n",
            "  [0.9370245  0.6117109  0.96877277 0.34423316]\n",
            "  [0.24525797 0.73299253 0.68144    0.9492165 ]]], shape=(2, 3, 4), dtype=float32)\n",
            "Transposed Tensor (3,2,4):\n",
            " tf.Tensor(\n",
            "[[[0.26218843 0.7246082  0.11152279 0.81594026]\n",
            "  [0.12729001 0.8042685  0.3117299  0.19165432]]\n",
            "\n",
            " [[0.44488585 0.7392136  0.9602324  0.16518235]\n",
            "  [0.9370245  0.6117109  0.96877277 0.34423316]]\n",
            "\n",
            " [[0.07193947 0.77597475 0.46224034 0.11138272]\n",
            "  [0.24525797 0.73299253 0.68144    0.9492165 ]]], shape=(3, 2, 4), dtype=float32)\n",
            "Broadcasted Tensor:\n",
            " tf.Tensor(\n",
            "[[1. 2. 3. 4.]\n",
            " [1. 2. 3. 4.]\n",
            " [1. 2. 3. 4.]], shape=(3, 4), dtype=float32)\n",
            "Result of Broadcasted Addition:\n",
            " tf.Tensor(\n",
            "[[2. 3. 4. 5.]\n",
            " [2. 3. 4. 5.]\n",
            " [2. 3. 4. 5.]], shape=(3, 4), dtype=float32)\n",
            "\n",
            "Broadcasting allows smaller tensors to match larger tensors by auto-expanding dimensions.\n"
          ]
        }
      ]
    },
    {
      "cell_type": "code",
      "source": [],
      "metadata": {
        "id": "hXqteGaoW_oE"
      },
      "execution_count": null,
      "outputs": []
    },
    {
      "cell_type": "markdown",
      "source": [
        "2. Loss Functions and Hyperparameter Tuning"
      ],
      "metadata": {
        "id": "FDR6MxBpCHMK"
      }
    },
    {
      "cell_type": "code",
      "source": [
        "import tensorflow as tf\n",
        "import matplotlib.pyplot as plt\n",
        "\n",
        "# True labels (one-hot)\n",
        "y_true = tf.constant([[0, 1, 0]], dtype=tf.float32)\n",
        "\n",
        "# Predicted probabilities (2 versions)\n",
        "y_pred1 = tf.constant([[0.1, 0.8, 0.1]], dtype=tf.float32)\n",
        "y_pred2 = tf.constant([[0.3, 0.4, 0.3]], dtype=tf.float32)\n",
        "\n",
        "# Mean Squared Error\n",
        "mse = tf.keras.losses.MeanSquaredError()\n",
        "mse1 = mse(y_true, y_pred1).numpy()\n",
        "mse2 = mse(y_true, y_pred2).numpy()\n",
        "\n",
        "# Categorical Cross Entropy\n",
        "cce = tf.keras.losses.CategoricalCrossentropy()\n",
        "cce1 = cce(y_true, y_pred1).numpy()\n",
        "cce2 = cce(y_true, y_pred2).numpy()\n",
        "\n",
        "# Print losses\n",
        "print(f\"MSE (pred1): {mse1:.4f}, MSE (pred2): {mse2:.4f}\")\n",
        "print(f\"CCE (pred1): {cce1:.4f}, CCE (pred2): {cce2:.4f}\")\n",
        "\n",
        "# Bar Chart Comparison\n",
        "labels = ['MSE', 'CCE']\n",
        "loss1 = [mse1, cce1]\n",
        "loss2 = [mse2, cce2]\n",
        "\n",
        "x = range(len(labels))\n",
        "bar_width = 0.35\n",
        "\n",
        "# Plot bars\n",
        "plt.figure(figsize=(6, 5))\n",
        "plt.bar(x, loss1, width=bar_width, label='Pred1', color='skyblue')\n",
        "plt.bar([i + bar_width for i in x], loss2, width=bar_width, label='Pred2', color='salmon')\n",
        "\n",
        "# X-ticks in center\n",
        "plt.xticks([i + bar_width / 2 for i in x], labels)\n",
        "\n",
        "plt.title(\"Loss Function Comparison\")\n",
        "plt.ylabel(\"Loss Value\")\n",
        "plt.legend()\n",
        "plt.tight_layout()\n",
        "plt.grid(axis='y', linestyle='--', alpha=0.6)\n",
        "plt.show()\n"
      ],
      "metadata": {
        "colab": {
          "base_uri": "https://localhost:8080/",
          "height": 542
        },
        "id": "BQfNUkRfCV8l",
        "outputId": "e196abb8-e7c0-4387-fee4-aa4e37a55b5f"
      },
      "execution_count": null,
      "outputs": [
        {
          "output_type": "stream",
          "name": "stdout",
          "text": [
            "MSE (pred1): 0.0200, MSE (pred2): 0.1800\n",
            "CCE (pred1): 0.2231, CCE (pred2): 0.9163\n"
          ]
        },
        {
          "output_type": "display_data",
          "data": {
            "text/plain": [
              "<Figure size 600x500 with 1 Axes>"
            ],
            "image/png": "[encoded data removed]"
          },
          "metadata": {}
        }
      ]
    },
    {
      "cell_type": "markdown",
      "source": [
        "3. Train Neural Network and use TensorBoard"
      ],
      "metadata": {
        "id": "9nm9GqdTCfO2"
      }
    },
    {
      "cell_type": "code",
      "source": [
        "# Section 3: Neural Network Training with TensorBoard\n",
        "import datetime\n",
        "\n",
        "# Load MNIST dataset\n",
        "mnist = tf.keras.datasets.mnist\n",
        "(x_train, y_train), (x_test, y_test) = mnist.load_data()\n",
        "\n",
        "# Normalize data\n",
        "x_train = x_train / 255.0\n",
        "x_test = x_test / 255.0\n",
        "\n",
        "# Create model\n",
        "model = tf.keras.Sequential([\n",
        "    tf.keras.layers.Flatten(input_shape=(28, 28)),\n",
        "    tf.keras.layers.Dense(128, activation='relu'),\n",
        "    tf.keras.layers.Dense(10, activation='softmax')\n",
        "])\n",
        "\n",
        "model.compile(optimizer='adam',\n",
        "              loss='sparse_categorical_crossentropy',\n",
        "              metrics=['accuracy'])\n",
        "\n",
        "# TensorBoard log setup\n",
        "log_dir = \"logs/fit/\" + datetime.datetime.now().strftime(\"%Y%m%d-%H%M%S\")\n",
        "tensorboard_callback = tf.keras.callbacks.TensorBoard(log_dir=log_dir, histogram_freq=1)\n",
        "\n",
        "# Train model\n",
        "model.fit(x_train, y_train, epochs=5,\n",
        "          validation_data=(x_test, y_test),\n",
        "          callbacks=[tensorboard_callback])"
      ],
      "metadata": {
        "colab": {
          "base_uri": "https://localhost:8080/"
        },
        "id": "Qz_tzSu0Csta",
        "outputId": "ec9ea188-84b1-40d9-93ad-54566c0fabd4"
      },
      "execution_count": null,
      "outputs": [
        {
          "output_type": "stream",
          "name": "stdout",
          "text": [
            "Downloading data from https://storage.googleapis.com/tensorflow/tf-keras-datasets/mnist.npz\n",
            "\u001b[1m11490434/11490434\u001b[0m \u001b[32m━━━━━━━━━━━━━━━━━━━━\u001b[0m\u001b[37m\u001b[0m \u001b[1m0s\u001b[0m 0us/step\n"
          ]
        },
        {
          "output_type": "stream",
          "name": "stderr",
          "text": [
            "/usr/local/lib/python3.11/dist-packages/keras/src/layers/reshaping/flatten.py:37: UserWarning: Do not pass an `input_shape`/`input_dim` argument to a layer. When using Sequential models, prefer using an `Input(shape)` object as the first layer in the model instead.\n",
            "  super().__init__(**kwargs)\n"
          ]
        },
        {
          "output_type": "stream",
          "name": "stdout",
          "text": [
            "Epoch 1/5\n",
            "\u001b[1m1875/1875\u001b[0m \u001b[32m━━━━━━━━━━━━━━━━━━━━\u001b[0m\u001b[37m\u001b[0m \u001b[1m8s\u001b[0m 4ms/step - accuracy: 0.8759 - loss: 0.4396 - val_accuracy: 0.9567 - val_loss: 0.1491\n",
            "Epoch 2/5\n",
            "\u001b[1m1875/1875\u001b[0m \u001b[32m━━━━━━━━━━━━━━━━━━━━\u001b[0m\u001b[37m\u001b[0m \u001b[1m11s\u001b[0m 5ms/step - accuracy: 0.9646 - loss: 0.1234 - val_accuracy: 0.9666 - val_loss: 0.1061\n",
            "Epoch 3/5\n",
            "\u001b[1m1875/1875\u001b[0m \u001b[32m━━━━━━━━━━━━━━━━━━━━\u001b[0m\u001b[37m\u001b[0m \u001b[1m8s\u001b[0m 4ms/step - accuracy: 0.9751 - loss: 0.0841 - val_accuracy: 0.9720 - val_loss: 0.0879\n",
            "Epoch 4/5\n",
            "\u001b[1m 145/1875\u001b[0m \u001b[32m━\u001b[0m\u001b[37m━━━━━━━━━━━━━━━━━━━\u001b[0m \u001b[1m5s\u001b[0m 3ms/step - accuracy: 0.9845 - loss: 0.0533"
          ]
        }
      ]
    },
    {
      "cell_type": "markdown",
      "source": [
        "4. TensorBoard"
      ],
      "metadata": {
        "id": "GmXkdrc-DEn9"
      }
    },
    {
      "cell_type": "code",
      "source": [
        "# Run this in a separate cell\n",
        "%load_ext tensorboard\n",
        "%tensorboard --logdir logs/fit"
      ],
      "metadata": {
        "id": "LiE75cOGDIxy"
      },
      "execution_count": null,
      "outputs": []
    },
    {
      "cell_type": "markdown",
      "source": [
        "### Section 4.1: TensorBoard Questions\n",
        "\n",
        "**Q1. What patterns do you observe in the training and validation accuracy curves?**  \n",
        "Both curves increase and stay close to each other. Training accuracy reached 0.9862, and validation accuracy reached 0.9728. This suggests the model is generalizing well and is not overfitting.\n",
        "\n",
        "**Q2. How can you use TensorBoard to detect overfitting?**  \n",
        "If the training accuracy keeps increasing while validation accuracy decreases or flattens, it indicates overfitting. Also, a growing gap between training and validation loss is a sign of overfitting.\n",
        "\n",
        "**Q3. What happens when you increase the number of epochs?**  \n",
        "Initially, performance improves. But after a certain point, the model may overfit — training accuracy increases while validation accuracy decreases. This can be monitored using TensorBoard.\n"
      ],
      "metadata": {
        "id": "_usv6Cfoj1Iu"
      }
    },
    {
      "cell_type": "code",
      "source": [],
      "metadata": {
        "id": "ItTnVbSmj32W"
      },
      "execution_count": null,
      "outputs": []
    }
  ]
}